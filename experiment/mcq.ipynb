{
 "cells": [
  {
   "cell_type": "code",
   "execution_count": 1,
   "metadata": {},
   "outputs": [],
   "source": [
    "# !pip install langchain_community\n",
    "# ! pip install langchain_openai"
   ]
  },
  {
   "cell_type": "code",
   "execution_count": 2,
   "metadata": {},
   "outputs": [],
   "source": [
    "import pandas as pd\n",
    "import json\n",
    "import traceback\n",
    "import os"
   ]
  },
  {
   "cell_type": "code",
   "execution_count": 3,
   "metadata": {},
   "outputs": [
    {
     "data": {
      "text/plain": [
       "True"
      ]
     },
     "execution_count": 3,
     "metadata": {},
     "output_type": "execute_result"
    }
   ],
   "source": [
    "from dotenv import load_dotenv\n",
    "load_dotenv()  # take environment variables from .env."
   ]
  },
  {
   "cell_type": "code",
   "execution_count": 4,
   "metadata": {},
   "outputs": [],
   "source": [
    "OPENAI_KEY = os.getenv(\"OPENAI_KEY\")"
   ]
  },
  {
   "cell_type": "code",
   "execution_count": 6,
   "metadata": {},
   "outputs": [],
   "source": [
    "# import openai\n",
    "# import langchain\n",
    "# from langchain.chat_models import ChatOpenAI"
   ]
  },
  {
   "cell_type": "code",
   "execution_count": 7,
   "metadata": {},
   "outputs": [],
   "source": [
    "import openai\n",
    "import langchain\n",
    "from langchain_openai import ChatOpenAI\n",
    "\n",
    "llm = ChatOpenAI(openai_api_key=OPENAI_KEY, model=\"gpt-4o-mini\", temperature=0.5)"
   ]
  },
  {
   "cell_type": "code",
   "execution_count": 8,
   "metadata": {},
   "outputs": [],
   "source": [
    "from langchain.llms import OpenAI\n",
    "from langchain.prompts import PromptTemplate\n",
    "from langchain.chains import LLMChain\n",
    "from langchain.chains import SequentialChain\n",
    "from langchain.callbacks import get_openai_callback\n",
    "import PyPDF2"
   ]
  },
  {
   "cell_type": "code",
   "execution_count": 9,
   "metadata": {},
   "outputs": [],
   "source": [
    "RESPONSE_JSON = {\n",
    "    \"1\": {\n",
    "        \"mcq\": \"multiple choice question\",\n",
    "        \"options\": {\n",
    "            \"a\": \"choice here\",\n",
    "            \"b\": \"choice here\",\n",
    "            \"c\": \"choice here\",\n",
    "            \"d\": \"choice here\",\n",
    "        },\n",
    "        \"correct\": \"correct answer\",\n",
    "    },\n",
    "    \"2\": {\n",
    "        \"mcq\": \"multiple choice question\",\n",
    "        \"options\": {\n",
    "            \"a\": \"choice here\",\n",
    "            \"b\": \"choice here\",\n",
    "            \"c\": \"choice here\",\n",
    "            \"d\": \"choice here\",\n",
    "        },\n",
    "        \"correct\": \"correct answer\",\n",
    "    },\n",
    "}"
   ]
  },
  {
   "cell_type": "code",
   "execution_count": 10,
   "metadata": {},
   "outputs": [],
   "source": [
    "TEMPLATE=\"\"\"\n",
    "Text:{text}\n",
    "You are an expert MCQ maker. Given the above text, it is your job to \\\n",
    "create a quiz  of {number} multiple choice questions for {subject} students in difficulty level - {tone} \n",
    "Make sure the questions are not repeated and check all the questions to be conforming the text as well.\n",
    "Make sure to format your response like  RESPONSE_JSON below  and use it as a guide. \\\n",
    "Ensure to make {number} MCQs\n",
    "### RESPONSE_JSON\n",
    "{response_json}\n",
    "\n",
    "\"\"\""
   ]
  },
  {
   "cell_type": "code",
   "execution_count": 11,
   "metadata": {},
   "outputs": [
    {
     "name": "stderr",
     "output_type": "stream",
     "text": [
      "C:\\Users\\yashd\\AppData\\Local\\Temp\\ipykernel_24040\\320620758.py:6: LangChainDeprecationWarning: The class `LLMChain` was deprecated in LangChain 0.1.17 and will be removed in 1.0. Use :meth:`~RunnableSequence, e.g., `prompt | llm`` instead.\n",
      "  quiz_chain=LLMChain(llm=llm, prompt=quiz_generation_prompt, output_key=\"quiz\", verbose=True)\n"
     ]
    }
   ],
   "source": [
    "quiz_generation_prompt = PromptTemplate(\n",
    "    input_variables=[\"text\", \"number\", \"subject\", \"tone\", \"response_json\"],\n",
    "    template=TEMPLATE\n",
    "    )\n",
    "\n",
    "quiz_chain=LLMChain(llm=llm, prompt=quiz_generation_prompt, output_key=\"quiz\", verbose=True)"
   ]
  },
  {
   "cell_type": "code",
   "execution_count": 12,
   "metadata": {},
   "outputs": [],
   "source": [
    "TEMPLATE2=\"\"\"\n",
    "You are an expert english grammarian and writer. Given a Multiple Choice Quiz for {subject} students.\\\n",
    "You need to evaluate the complexity of the question and give a complete analysis of the quiz. Only use at max 50 words for complexity analysis. \n",
    "if the quiz is not at per with the cognitive and analytical abilities of the students,\\\n",
    "update the quiz questions which needs to be changed and change the tone such that it perfectly fits the student abilities\n",
    "Quiz_MCQs:\n",
    "{quiz}\n",
    "\n",
    "Check from an expert English Writer of the above quiz:\n",
    "\"\"\"\n",
    "\n",
    "quiz_evaluation_prompt=PromptTemplate(input_variables=[\"subject\", \"quiz\"], template=TEMPLATE2)\n",
    "\n",
    "review_chain=LLMChain(llm=llm, prompt=quiz_evaluation_prompt, output_key=\"review\", verbose=True)"
   ]
  },
  {
   "cell_type": "code",
   "execution_count": 13,
   "metadata": {},
   "outputs": [],
   "source": [
    "generate_evaluate_chain=SequentialChain(chains=[quiz_chain, review_chain], input_variables=[\"text\", \"number\", \"subject\", \"tone\", \"response_json\"],\n",
    "                                        output_variables=[\"quiz\", \"review\"], verbose=True)"
   ]
  },
  {
   "cell_type": "code",
   "execution_count": 14,
   "metadata": {},
   "outputs": [],
   "source": [
    "TEXT = \"\"\"Electromagnetic induction is the process of generating an electromotive force (EMF) or voltage across a conductor when it is exposed to a changing magnetic field. This fundamental principle was discovered by Michael Faraday in 1831 and is the basis for many electrical devices, including transformers, generators, and induction cooktops. According to Faraday’s Law, the magnitude of the induced EMF is directly proportional to the rate of change of magnetic flux through the conductor. Mathematically, it is expressed as:\n",
    "\n",
    "    𝓔 = -dΦB/dt\n",
    "\n",
    "where 𝓔 is the induced EMF, and ΦB is the magnetic flux. The negative sign represents Lenz’s Law, which states that the induced current will always oppose the change in magnetic flux that caused it. This opposition is a consequence of the law of conservation of energy, ensuring that energy is neither created nor destroyed.\n",
    "\n",
    "There are two main types of electromagnetic induction: mutual induction and self-induction. Mutual induction occurs when a changing current in one coil induces an EMF in a nearby coil, as seen in transformers. Self-induction, on the other hand, occurs when a changing current in a coil induces an EMF in the same coil due to its own changing magnetic field. The inductance (L) of a coil determines how effectively it can induce an EMF in response to changing current, and its unit is the Henry (H).\n",
    "\n",
    "This principle has widespread applications in everyday life. In power plants, electrical generators use electromagnetic induction to convert mechanical energy into electrical energy. In wireless charging technology, coils in the charger and the device create an induced current to charge batteries without physical contact. Even credit card readers use electromagnetic induction to extract information from magnetic strips. The concept remains a cornerstone of modern electrical engineering, making it one of the most crucial discoveries in physics.\"\"\"\n"
   ]
  },
  {
   "cell_type": "code",
   "execution_count": 15,
   "metadata": {},
   "outputs": [],
   "source": [
    "NUMBER=5 \n",
    "SUBJECT=\"Electromagnetic Induction\"\n",
    "TONE=\"simple\""
   ]
  },
  {
   "cell_type": "code",
   "execution_count": 16,
   "metadata": {},
   "outputs": [
    {
     "name": "stderr",
     "output_type": "stream",
     "text": [
      "C:\\Users\\yashd\\AppData\\Local\\Temp\\ipykernel_24040\\2654919708.py:5: LangChainDeprecationWarning: The method `Chain.__call__` was deprecated in langchain 0.1.0 and will be removed in 1.0. Use :meth:`~invoke` instead.\n",
      "  response=generate_evaluate_chain(\n"
     ]
    },
    {
     "name": "stdout",
     "output_type": "stream",
     "text": [
      "\n",
      "\n",
      "\u001b[1m> Entering new SequentialChain chain...\u001b[0m\n",
      "\n",
      "\n",
      "\u001b[1m> Entering new LLMChain chain...\u001b[0m\n",
      "Prompt after formatting:\n",
      "\u001b[32;1m\u001b[1;3m\n",
      "Text:Electromagnetic induction is the process of generating an electromotive force (EMF) or voltage across a conductor when it is exposed to a changing magnetic field. This fundamental principle was discovered by Michael Faraday in 1831 and is the basis for many electrical devices, including transformers, generators, and induction cooktops. According to Faraday’s Law, the magnitude of the induced EMF is directly proportional to the rate of change of magnetic flux through the conductor. Mathematically, it is expressed as:\n",
      "\n",
      "    𝓔 = -dΦB/dt\n",
      "\n",
      "where 𝓔 is the induced EMF, and ΦB is the magnetic flux. The negative sign represents Lenz’s Law, which states that the induced current will always oppose the change in magnetic flux that caused it. This opposition is a consequence of the law of conservation of energy, ensuring that energy is neither created nor destroyed.\n",
      "\n",
      "There are two main types of electromagnetic induction: mutual induction and self-induction. Mutual induction occurs when a changing current in one coil induces an EMF in a nearby coil, as seen in transformers. Self-induction, on the other hand, occurs when a changing current in a coil induces an EMF in the same coil due to its own changing magnetic field. The inductance (L) of a coil determines how effectively it can induce an EMF in response to changing current, and its unit is the Henry (H).\n",
      "\n",
      "This principle has widespread applications in everyday life. In power plants, electrical generators use electromagnetic induction to convert mechanical energy into electrical energy. In wireless charging technology, coils in the charger and the device create an induced current to charge batteries without physical contact. Even credit card readers use electromagnetic induction to extract information from magnetic strips. The concept remains a cornerstone of modern electrical engineering, making it one of the most crucial discoveries in physics.\n",
      "You are an expert MCQ maker. Given the above text, it is your job to create a quiz  of 5 multiple choice questions for Electromagnetic Induction students in difficulty level - simple \n",
      "Make sure the questions are not repeated and check all the questions to be conforming the text as well.\n",
      "Make sure to format your response like  RESPONSE_JSON below  and use it as a guide. Ensure to make 5 MCQs\n",
      "### RESPONSE_JSON\n",
      "{\"1\": {\"mcq\": \"multiple choice question\", \"options\": {\"a\": \"choice here\", \"b\": \"choice here\", \"c\": \"choice here\", \"d\": \"choice here\"}, \"correct\": \"correct answer\"}, \"2\": {\"mcq\": \"multiple choice question\", \"options\": {\"a\": \"choice here\", \"b\": \"choice here\", \"c\": \"choice here\", \"d\": \"choice here\"}, \"correct\": \"correct answer\"}}\n",
      "\n",
      "\u001b[0m\n",
      "\n",
      "\u001b[1m> Finished chain.\u001b[0m\n",
      "\n",
      "\n",
      "\u001b[1m> Entering new LLMChain chain...\u001b[0m\n",
      "Prompt after formatting:\n",
      "\u001b[32;1m\u001b[1;3m\n",
      "You are an expert english grammarian and writer. Given a Multiple Choice Quiz for Electromagnetic Induction students.You need to evaluate the complexity of the question and give a complete analysis of the quiz. Only use at max 50 words for complexity analysis. \n",
      "if the quiz is not at per with the cognitive and analytical abilities of the students,update the quiz questions which needs to be changed and change the tone such that it perfectly fits the student abilities\n",
      "Quiz_MCQs:\n",
      "{\n",
      "  \"1\": {\n",
      "    \"mcq\": \"Who discovered the principle of electromagnetic induction?\",\n",
      "    \"options\": {\n",
      "      \"a\": \"Nikola Tesla\",\n",
      "      \"b\": \"Michael Faraday\",\n",
      "      \"c\": \"James Clerk Maxwell\",\n",
      "      \"d\": \"Albert Einstein\"\n",
      "    },\n",
      "    \"correct\": \"b\"\n",
      "  },\n",
      "  \"2\": {\n",
      "    \"mcq\": \"What does Faraday's Law state about the induced electromotive force (EMF)?\",\n",
      "    \"options\": {\n",
      "      \"a\": \"It is inversely proportional to the rate of change of magnetic flux.\",\n",
      "      \"b\": \"It is directly proportional to the rate of change of magnetic flux.\",\n",
      "      \"c\": \"It is constant regardless of magnetic flux changes.\",\n",
      "      \"d\": \"It depends solely on the resistance of the conductor.\"\n",
      "    },\n",
      "    \"correct\": \"b\"\n",
      "  },\n",
      "  \"3\": {\n",
      "    \"mcq\": \"What is the unit of inductance?\",\n",
      "    \"options\": {\n",
      "      \"a\": \"Volt\",\n",
      "      \"b\": \"Ampere\",\n",
      "      \"c\": \"Henry\",\n",
      "      \"d\": \"Ohm\"\n",
      "    },\n",
      "    \"correct\": \"c\"\n",
      "  },\n",
      "  \"4\": {\n",
      "    \"mcq\": \"Which type of electromagnetic induction occurs when a changing current in one coil induces an EMF in a nearby coil?\",\n",
      "    \"options\": {\n",
      "      \"a\": \"Self-induction\",\n",
      "      \"b\": \"Mutual induction\",\n",
      "      \"c\": \"Electromagnetic induction\",\n",
      "      \"d\": \"Static induction\"\n",
      "    },\n",
      "    \"correct\": \"b\"\n",
      "  },\n",
      "  \"5\": {\n",
      "    \"mcq\": \"What principle ensures that the induced current opposes the change in magnetic flux?\",\n",
      "    \"options\": {\n",
      "      \"a\": \"Faraday’s Law\",\n",
      "      \"b\": \"Lenz’s Law\",\n",
      "      \"c\": \"Ohm’s Law\",\n",
      "      \"d\": \"Newton’s Law\"\n",
      "    },\n",
      "    \"correct\": \"b\"\n",
      "  }\n",
      "}\n",
      "\n",
      "Check from an expert English Writer of the above quiz:\n",
      "\u001b[0m\n",
      "\n",
      "\u001b[1m> Finished chain.\u001b[0m\n",
      "\n",
      "\u001b[1m> Finished chain.\u001b[0m\n"
     ]
    }
   ],
   "source": [
    "#https://python.langchain.com/docs/modules/model_io/llms/token_usage_tracking\n",
    "\n",
    "#How to setup Token Usage Tracking in LangChain\n",
    "with get_openai_callback() as cb:\n",
    "    response=generate_evaluate_chain(\n",
    "        {\n",
    "            \"text\": TEXT,\n",
    "            \"number\": NUMBER,\n",
    "            \"subject\":SUBJECT,\n",
    "            \"tone\": TONE,\n",
    "            \"response_json\": json.dumps(RESPONSE_JSON)\n",
    "        }\n",
    "        )"
   ]
  },
  {
   "cell_type": "code",
   "execution_count": 17,
   "metadata": {},
   "outputs": [
    {
     "name": "stdout",
     "output_type": "stream",
     "text": [
      "Total Tokens:2000\n",
      "Prompt Tokens:1105\n",
      "Completion Tokens:895\n",
      "Total Cost:0.0007027499999999999\n"
     ]
    }
   ],
   "source": [
    "print(f\"Total Tokens:{cb.total_tokens}\")\n",
    "print(f\"Prompt Tokens:{cb.prompt_tokens}\")\n",
    "print(f\"Completion Tokens:{cb.completion_tokens}\")\n",
    "print(f\"Total Cost:{cb.total_cost}\")"
   ]
  },
  {
   "cell_type": "code",
   "execution_count": 18,
   "metadata": {},
   "outputs": [
    {
     "data": {
      "text/plain": [
       "{'text': 'Electromagnetic induction is the process of generating an electromotive force (EMF) or voltage across a conductor when it is exposed to a changing magnetic field. This fundamental principle was discovered by Michael Faraday in 1831 and is the basis for many electrical devices, including transformers, generators, and induction cooktops. According to Faraday’s Law, the magnitude of the induced EMF is directly proportional to the rate of change of magnetic flux through the conductor. Mathematically, it is expressed as:\\n\\n    𝓔 = -dΦB/dt\\n\\nwhere 𝓔 is the induced EMF, and ΦB is the magnetic flux. The negative sign represents Lenz’s Law, which states that the induced current will always oppose the change in magnetic flux that caused it. This opposition is a consequence of the law of conservation of energy, ensuring that energy is neither created nor destroyed.\\n\\nThere are two main types of electromagnetic induction: mutual induction and self-induction. Mutual induction occurs when a changing current in one coil induces an EMF in a nearby coil, as seen in transformers. Self-induction, on the other hand, occurs when a changing current in a coil induces an EMF in the same coil due to its own changing magnetic field. The inductance (L) of a coil determines how effectively it can induce an EMF in response to changing current, and its unit is the Henry (H).\\n\\nThis principle has widespread applications in everyday life. In power plants, electrical generators use electromagnetic induction to convert mechanical energy into electrical energy. In wireless charging technology, coils in the charger and the device create an induced current to charge batteries without physical contact. Even credit card readers use electromagnetic induction to extract information from magnetic strips. The concept remains a cornerstone of modern electrical engineering, making it one of the most crucial discoveries in physics.',\n",
       " 'number': 5,\n",
       " 'subject': 'Electromagnetic Induction',\n",
       " 'tone': 'simple',\n",
       " 'response_json': '{\"1\": {\"mcq\": \"multiple choice question\", \"options\": {\"a\": \"choice here\", \"b\": \"choice here\", \"c\": \"choice here\", \"d\": \"choice here\"}, \"correct\": \"correct answer\"}, \"2\": {\"mcq\": \"multiple choice question\", \"options\": {\"a\": \"choice here\", \"b\": \"choice here\", \"c\": \"choice here\", \"d\": \"choice here\"}, \"correct\": \"correct answer\"}}',\n",
       " 'quiz': '{\\n  \"1\": {\\n    \"mcq\": \"Who discovered the principle of electromagnetic induction?\",\\n    \"options\": {\\n      \"a\": \"Nikola Tesla\",\\n      \"b\": \"Michael Faraday\",\\n      \"c\": \"James Clerk Maxwell\",\\n      \"d\": \"Albert Einstein\"\\n    },\\n    \"correct\": \"b\"\\n  },\\n  \"2\": {\\n    \"mcq\": \"What does Faraday\\'s Law state about the induced electromotive force (EMF)?\",\\n    \"options\": {\\n      \"a\": \"It is inversely proportional to the rate of change of magnetic flux.\",\\n      \"b\": \"It is directly proportional to the rate of change of magnetic flux.\",\\n      \"c\": \"It is constant regardless of magnetic flux changes.\",\\n      \"d\": \"It depends solely on the resistance of the conductor.\"\\n    },\\n    \"correct\": \"b\"\\n  },\\n  \"3\": {\\n    \"mcq\": \"What is the unit of inductance?\",\\n    \"options\": {\\n      \"a\": \"Volt\",\\n      \"b\": \"Ampere\",\\n      \"c\": \"Henry\",\\n      \"d\": \"Ohm\"\\n    },\\n    \"correct\": \"c\"\\n  },\\n  \"4\": {\\n    \"mcq\": \"Which type of electromagnetic induction occurs when a changing current in one coil induces an EMF in a nearby coil?\",\\n    \"options\": {\\n      \"a\": \"Self-induction\",\\n      \"b\": \"Mutual induction\",\\n      \"c\": \"Electromagnetic induction\",\\n      \"d\": \"Static induction\"\\n    },\\n    \"correct\": \"b\"\\n  },\\n  \"5\": {\\n    \"mcq\": \"What principle ensures that the induced current opposes the change in magnetic flux?\",\\n    \"options\": {\\n      \"a\": \"Faraday’s Law\",\\n      \"b\": \"Lenz’s Law\",\\n      \"c\": \"Ohm’s Law\",\\n      \"d\": \"Newton’s Law\"\\n    },\\n    \"correct\": \"b\"\\n  }\\n}',\n",
       " 'review': '**Complexity Analysis:**  \\nThe quiz effectively assesses foundational knowledge of electromagnetic induction but lacks higher-order thinking questions. It primarily tests recall rather than application or analysis, which may not fully engage students\\' cognitive abilities.\\n\\n**Updated Quiz Questions:**\\n\\n1. **Original:** Who discovered the principle of electromagnetic induction?  \\n   **Updated:** Explain the significance of Michael Faraday\\'s discovery of electromagnetic induction in today\\'s technology.  \\n   **Options:**  \\n   a. It led to the development of electric generators.  \\n   b. It is irrelevant to modern technology.  \\n   c. It only applies to theoretical physics.  \\n   d. It is primarily used in static electricity.\\n\\n2. **Original:** What does Faraday\\'s Law state about the induced electromotive force (EMF)?  \\n   **Updated:** How does Faraday\\'s Law relate to the functioning of electric generators?  \\n   **Options:**  \\n   a. It describes how generators convert mechanical energy to electrical energy.  \\n   b. It has no real-world applications.  \\n   c. It only applies to batteries.  \\n   d. It describes resistance in circuits.\\n\\n3. **Original:** What is the unit of inductance?  \\n   **Updated:** Why is the unit \"Henry\" important in understanding inductance?  \\n   **Options:**  \\n   a. It explains the relationship between voltage and current.  \\n   b. It measures how much current can flow.  \\n   c. It quantifies the ability to store magnetic energy.  \\n   d. It is unrelated to electromagnetic concepts.\\n\\n4. **Original:** Which type of electromagnetic induction occurs when a changing current in one coil induces an EMF in a nearby coil?  \\n   **Updated:** Describe a real-world application of mutual induction.  \\n   **Options:**  \\n   a. Electric transformers.  \\n   b. Static electricity.  \\n   c. Solar panels.  \\n   d. Lightning.\\n\\n5. **Original:** What principle ensures that the induced current opposes the change in magnetic flux?  \\n   **Updated:** How does Lenz’s Law demonstrate the conservation of energy in electromagnetic systems?  \\n   **Options:**  \\n   a. It shows that energy is lost in induction.  \\n   b. It explains why induced currents work against the source.  \\n   c. It is not related to energy.  \\n   d. It only applies to static systems.'}"
      ]
     },
     "execution_count": 18,
     "metadata": {},
     "output_type": "execute_result"
    }
   ],
   "source": [
    "response"
   ]
  },
  {
   "cell_type": "code",
   "execution_count": 19,
   "metadata": {},
   "outputs": [
    {
     "data": {
      "text/plain": [
       "{'1': {'mcq': 'Who discovered the principle of electromagnetic induction?',\n",
       "  'options': {'a': 'Nikola Tesla',\n",
       "   'b': 'Michael Faraday',\n",
       "   'c': 'James Clerk Maxwell',\n",
       "   'd': 'Albert Einstein'},\n",
       "  'correct': 'b'},\n",
       " '2': {'mcq': \"What does Faraday's Law state about the induced electromotive force (EMF)?\",\n",
       "  'options': {'a': 'It is inversely proportional to the rate of change of magnetic flux.',\n",
       "   'b': 'It is directly proportional to the rate of change of magnetic flux.',\n",
       "   'c': 'It is constant regardless of magnetic flux changes.',\n",
       "   'd': 'It depends solely on the resistance of the conductor.'},\n",
       "  'correct': 'b'},\n",
       " '3': {'mcq': 'What is the unit of inductance?',\n",
       "  'options': {'a': 'Volt', 'b': 'Ampere', 'c': 'Henry', 'd': 'Ohm'},\n",
       "  'correct': 'c'},\n",
       " '4': {'mcq': 'Which type of electromagnetic induction occurs when a changing current in one coil induces an EMF in a nearby coil?',\n",
       "  'options': {'a': 'Self-induction',\n",
       "   'b': 'Mutual induction',\n",
       "   'c': 'Electromagnetic induction',\n",
       "   'd': 'Static induction'},\n",
       "  'correct': 'b'},\n",
       " '5': {'mcq': 'What principle ensures that the induced current opposes the change in magnetic flux?',\n",
       "  'options': {'a': 'Faraday’s Law',\n",
       "   'b': 'Lenz’s Law',\n",
       "   'c': 'Ohm’s Law',\n",
       "   'd': 'Newton’s Law'},\n",
       "  'correct': 'b'}}"
      ]
     },
     "execution_count": 19,
     "metadata": {},
     "output_type": "execute_result"
    }
   ],
   "source": [
    "quiz=response.get(\"quiz\")\n",
    "quiz=json.loads(quiz)\n",
    "quiz"
   ]
  },
  {
   "cell_type": "code",
   "execution_count": 20,
   "metadata": {},
   "outputs": [
    {
     "data": {
      "text/plain": [
       "[{'MCQ': 'Who discovered the principle of electromagnetic induction?',\n",
       "  'Choices': 'a: Nikola Tesla | b: Michael Faraday | c: James Clerk Maxwell | d: Albert Einstein',\n",
       "  'Correct': 'b'},\n",
       " {'MCQ': \"What does Faraday's Law state about the induced electromotive force (EMF)?\",\n",
       "  'Choices': 'a: It is inversely proportional to the rate of change of magnetic flux. | b: It is directly proportional to the rate of change of magnetic flux. | c: It is constant regardless of magnetic flux changes. | d: It depends solely on the resistance of the conductor.',\n",
       "  'Correct': 'b'},\n",
       " {'MCQ': 'What is the unit of inductance?',\n",
       "  'Choices': 'a: Volt | b: Ampere | c: Henry | d: Ohm',\n",
       "  'Correct': 'c'},\n",
       " {'MCQ': 'Which type of electromagnetic induction occurs when a changing current in one coil induces an EMF in a nearby coil?',\n",
       "  'Choices': 'a: Self-induction | b: Mutual induction | c: Electromagnetic induction | d: Static induction',\n",
       "  'Correct': 'b'},\n",
       " {'MCQ': 'What principle ensures that the induced current opposes the change in magnetic flux?',\n",
       "  'Choices': 'a: Faraday’s Law | b: Lenz’s Law | c: Ohm’s Law | d: Newton’s Law',\n",
       "  'Correct': 'b'}]"
      ]
     },
     "execution_count": 20,
     "metadata": {},
     "output_type": "execute_result"
    }
   ],
   "source": [
    "quiz_table_data = []\n",
    "for key, value in quiz.items():\n",
    "    mcq = value[\"mcq\"]\n",
    "    options = \" | \".join(\n",
    "        [\n",
    "            f\"{option}: {option_value}\"\n",
    "            for option, option_value in value[\"options\"].items()\n",
    "            ]\n",
    "        )\n",
    "    correct = value[\"correct\"]\n",
    "    quiz_table_data.append({\"MCQ\": mcq, \"Choices\": options, \"Correct\": correct})\n",
    "quiz_table_data"
   ]
  },
  {
   "cell_type": "code",
   "execution_count": 21,
   "metadata": {},
   "outputs": [
    {
     "data": {
      "text/html": [
       "<div>\n",
       "<style scoped>\n",
       "    .dataframe tbody tr th:only-of-type {\n",
       "        vertical-align: middle;\n",
       "    }\n",
       "\n",
       "    .dataframe tbody tr th {\n",
       "        vertical-align: top;\n",
       "    }\n",
       "\n",
       "    .dataframe thead th {\n",
       "        text-align: right;\n",
       "    }\n",
       "</style>\n",
       "<table border=\"1\" class=\"dataframe\">\n",
       "  <thead>\n",
       "    <tr style=\"text-align: right;\">\n",
       "      <th></th>\n",
       "      <th>MCQ</th>\n",
       "      <th>Choices</th>\n",
       "      <th>Correct</th>\n",
       "    </tr>\n",
       "  </thead>\n",
       "  <tbody>\n",
       "    <tr>\n",
       "      <th>0</th>\n",
       "      <td>Who discovered the principle of electromagneti...</td>\n",
       "      <td>a: Nikola Tesla | b: Michael Faraday | c: Jame...</td>\n",
       "      <td>b</td>\n",
       "    </tr>\n",
       "    <tr>\n",
       "      <th>1</th>\n",
       "      <td>What does Faraday's Law state about the induce...</td>\n",
       "      <td>a: It is inversely proportional to the rate of...</td>\n",
       "      <td>b</td>\n",
       "    </tr>\n",
       "    <tr>\n",
       "      <th>2</th>\n",
       "      <td>What is the unit of inductance?</td>\n",
       "      <td>a: Volt | b: Ampere | c: Henry | d: Ohm</td>\n",
       "      <td>c</td>\n",
       "    </tr>\n",
       "    <tr>\n",
       "      <th>3</th>\n",
       "      <td>Which type of electromagnetic induction occurs...</td>\n",
       "      <td>a: Self-induction | b: Mutual induction | c: E...</td>\n",
       "      <td>b</td>\n",
       "    </tr>\n",
       "    <tr>\n",
       "      <th>4</th>\n",
       "      <td>What principle ensures that the induced curren...</td>\n",
       "      <td>a: Faraday’s Law | b: Lenz’s Law | c: Ohm’s La...</td>\n",
       "      <td>b</td>\n",
       "    </tr>\n",
       "  </tbody>\n",
       "</table>\n",
       "</div>"
      ],
      "text/plain": [
       "                                                 MCQ  \\\n",
       "0  Who discovered the principle of electromagneti...   \n",
       "1  What does Faraday's Law state about the induce...   \n",
       "2                    What is the unit of inductance?   \n",
       "3  Which type of electromagnetic induction occurs...   \n",
       "4  What principle ensures that the induced curren...   \n",
       "\n",
       "                                             Choices Correct  \n",
       "0  a: Nikola Tesla | b: Michael Faraday | c: Jame...       b  \n",
       "1  a: It is inversely proportional to the rate of...       b  \n",
       "2            a: Volt | b: Ampere | c: Henry | d: Ohm       c  \n",
       "3  a: Self-induction | b: Mutual induction | c: E...       b  \n",
       "4  a: Faraday’s Law | b: Lenz’s Law | c: Ohm’s La...       b  "
      ]
     },
     "execution_count": 21,
     "metadata": {},
     "output_type": "execute_result"
    }
   ],
   "source": [
    "quizDataFrame=pd.DataFrame(quiz_table_data)\n",
    "quizDataFrame"
   ]
  },
  {
   "cell_type": "code",
   "execution_count": null,
   "metadata": {},
   "outputs": [],
   "source": []
  }
 ],
 "metadata": {
  "kernelspec": {
   "display_name": "myenv",
   "language": "python",
   "name": "python3"
  },
  "language_info": {
   "codemirror_mode": {
    "name": "ipython",
    "version": 3
   },
   "file_extension": ".py",
   "mimetype": "text/x-python",
   "name": "python",
   "nbconvert_exporter": "python",
   "pygments_lexer": "ipython3",
   "version": "3.11.1"
  }
 },
 "nbformat": 4,
 "nbformat_minor": 2
}
